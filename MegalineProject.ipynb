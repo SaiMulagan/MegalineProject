{
 "cells": [
  {
   "cell_type": "markdown",
   "metadata": {},
   "source": [
    "# Which one is a better plan?\n",
    "\n",
    "In this project, we're helping the telecom company Megaline figure out which of their two prepaid plans, Surf or Ultimate, earns them more money. We have data from 500 clients from 2018, and we'll be looking at details like how many calls they made or texts they sent, and how much data they used. Our goal is to see which plan is more profitable, so Megaline knows where to focus their advertising efforts. By diving into this data, we hope to give Megaline a clear picture of where they can make more money and serve their customers better."
   ]
  },
  {
   "cell_type": "markdown",
   "metadata": {},
   "source": [
    "## Initialization"
   ]
  },
  {
   "cell_type": "code",
   "execution_count": 1,
   "metadata": {},
   "outputs": [],
   "source": [
    "# Loading all the libraries\n",
    "import pandas as pd\n",
    "import numpy as np\n",
    "import matplotlib.pyplot as plt"
   ]
  },
  {
   "cell_type": "markdown",
   "metadata": {},
   "source": [
    "## Load data"
   ]
  },
  {
   "cell_type": "code",
   "execution_count": 2,
   "metadata": {},
   "outputs": [],
   "source": [
    "# Load the data files into different DataFrames\n",
    "\n",
    "# Load the data files into different DataFrames\n",
    "\n",
    "# Define the file paths (you would need to specify the correct paths)\n",
    "file_paths = {\n",
    "    \"calls\": \"/datasets/megaline_calls.csv\",\n",
    "    \"internet\": \"/datasets/megaline_internet.csv\",\n",
    "    \"messages\": \"/datasets/megaline_messages.csv\",\n",
    "    \"plans\": \"/datasets/megaline_plans.csv\",\n",
    "    \"users\": \"/datasets/megaline_users.csv\"\n",
    "}\n",
    "\n",
    "# Load the data into dataframes\n",
    "calls_data = pd.read_csv(file_paths['calls'])\n",
    "internet_data = pd.read_csv(file_paths['internet'])\n",
    "messages_data = pd.read_csv(file_paths['messages'])\n",
    "plans_data = pd.read_csv(file_paths['plans'])\n",
    "users_data = pd.read_csv(file_paths['users'])\n"
   ]
  },
  {
   "cell_type": "markdown",
   "metadata": {},
   "source": [
    "## Prepare the data"
   ]
  },
  {
   "cell_type": "markdown",
   "metadata": {},
   "source": [
    "[The data for this project is split into several tables. Explore each one to get an initial understanding of the data. Do necessary corrections to each table if necessary.]"
   ]
  },
  {
   "cell_type": "code",
   "execution_count": 3,
   "metadata": {},
   "outputs": [
    {
     "name": "stdout",
     "output_type": "stream",
     "text": [
      "         id  user_id   call_date  duration\n",
      "0   1000_93     1000  2018-12-27      8.52\n",
      "1  1000_145     1000  2018-12-27     13.66\n",
      "2  1000_247     1000  2018-12-27     14.48\n",
      "3  1000_309     1000  2018-12-28      5.76\n",
      "4  1000_380     1000  2018-12-30      4.22\n",
      "<class 'pandas.core.frame.DataFrame'>\n",
      "RangeIndex: 137735 entries, 0 to 137734\n",
      "Data columns (total 4 columns):\n",
      " #   Column     Non-Null Count   Dtype  \n",
      "---  ------     --------------   -----  \n",
      " 0   id         137735 non-null  object \n",
      " 1   user_id    137735 non-null  int64  \n",
      " 2   call_date  137735 non-null  object \n",
      " 3   duration   137735 non-null  float64\n",
      "dtypes: float64(1), int64(1), object(2)\n",
      "memory usage: 4.2+ MB\n",
      "None\n",
      "             user_id       duration\n",
      "count  137735.000000  137735.000000\n",
      "mean     1247.658046       6.745927\n",
      "std       139.416268       5.839241\n",
      "min      1000.000000       0.000000\n",
      "25%      1128.000000       1.290000\n",
      "50%      1247.000000       5.980000\n",
      "75%      1365.000000      10.690000\n",
      "max      1499.000000      37.600000\n",
      "         id  user_id session_date  mb_used\n",
      "0   1000_13     1000   2018-12-29    89.86\n",
      "1  1000_204     1000   2018-12-31     0.00\n",
      "2  1000_379     1000   2018-12-28   660.40\n",
      "3  1000_413     1000   2018-12-26   270.99\n",
      "4  1000_442     1000   2018-12-27   880.22\n",
      "<class 'pandas.core.frame.DataFrame'>\n",
      "RangeIndex: 104825 entries, 0 to 104824\n",
      "Data columns (total 4 columns):\n",
      " #   Column        Non-Null Count   Dtype  \n",
      "---  ------        --------------   -----  \n",
      " 0   id            104825 non-null  object \n",
      " 1   user_id       104825 non-null  int64  \n",
      " 2   session_date  104825 non-null  object \n",
      " 3   mb_used       104825 non-null  float64\n",
      "dtypes: float64(1), int64(1), object(2)\n",
      "memory usage: 3.2+ MB\n",
      "None\n",
      "             user_id        mb_used\n",
      "count  104825.000000  104825.000000\n",
      "mean     1242.496361     366.713701\n",
      "std       142.053913     277.170542\n",
      "min      1000.000000       0.000000\n",
      "25%      1122.000000     136.080000\n",
      "50%      1236.000000     343.980000\n",
      "75%      1367.000000     554.610000\n",
      "max      1499.000000    1693.470000\n",
      "         id  user_id message_date\n",
      "0  1000_125     1000   2018-12-27\n",
      "1  1000_160     1000   2018-12-31\n",
      "2  1000_223     1000   2018-12-31\n",
      "3  1000_251     1000   2018-12-27\n",
      "4  1000_255     1000   2018-12-26\n",
      "<class 'pandas.core.frame.DataFrame'>\n",
      "RangeIndex: 76051 entries, 0 to 76050\n",
      "Data columns (total 3 columns):\n",
      " #   Column        Non-Null Count  Dtype \n",
      "---  ------        --------------  ----- \n",
      " 0   id            76051 non-null  object\n",
      " 1   user_id       76051 non-null  int64 \n",
      " 2   message_date  76051 non-null  object\n",
      "dtypes: int64(1), object(2)\n",
      "memory usage: 1.7+ MB\n",
      "None\n",
      "            user_id\n",
      "count  76051.000000\n",
      "mean    1245.972768\n",
      "std      139.843635\n",
      "min     1000.000000\n",
      "25%     1123.000000\n",
      "50%     1251.000000\n",
      "75%     1362.000000\n",
      "max     1497.000000\n",
      "   messages_included  mb_per_month_included  minutes_included  \\\n",
      "0                 50                  15360               500   \n",
      "1               1000                  30720              3000   \n",
      "\n",
      "   usd_monthly_pay  usd_per_gb  usd_per_message  usd_per_minute plan_name  \n",
      "0               20          10             0.03            0.03      surf  \n",
      "1               70           7             0.01            0.01  ultimate  \n",
      "<class 'pandas.core.frame.DataFrame'>\n",
      "RangeIndex: 2 entries, 0 to 1\n",
      "Data columns (total 8 columns):\n",
      " #   Column                 Non-Null Count  Dtype  \n",
      "---  ------                 --------------  -----  \n",
      " 0   messages_included      2 non-null      int64  \n",
      " 1   mb_per_month_included  2 non-null      int64  \n",
      " 2   minutes_included       2 non-null      int64  \n",
      " 3   usd_monthly_pay        2 non-null      int64  \n",
      " 4   usd_per_gb             2 non-null      int64  \n",
      " 5   usd_per_message        2 non-null      float64\n",
      " 6   usd_per_minute         2 non-null      float64\n",
      " 7   plan_name              2 non-null      object \n",
      "dtypes: float64(2), int64(5), object(1)\n",
      "memory usage: 256.0+ bytes\n",
      "None\n",
      "       messages_included  mb_per_month_included  minutes_included  \\\n",
      "count           2.000000               2.000000          2.000000   \n",
      "mean          525.000000           23040.000000       1750.000000   \n",
      "std           671.751442           10861.160159       1767.766953   \n",
      "min            50.000000           15360.000000        500.000000   \n",
      "25%           287.500000           19200.000000       1125.000000   \n",
      "50%           525.000000           23040.000000       1750.000000   \n",
      "75%           762.500000           26880.000000       2375.000000   \n",
      "max          1000.000000           30720.000000       3000.000000   \n",
      "\n",
      "       usd_monthly_pay  usd_per_gb  usd_per_message  usd_per_minute  \n",
      "count         2.000000     2.00000         2.000000        2.000000  \n",
      "mean         45.000000     8.50000         0.020000        0.020000  \n",
      "std          35.355339     2.12132         0.014142        0.014142  \n",
      "min          20.000000     7.00000         0.010000        0.010000  \n",
      "25%          32.500000     7.75000         0.015000        0.015000  \n",
      "50%          45.000000     8.50000         0.020000        0.020000  \n",
      "75%          57.500000     9.25000         0.025000        0.025000  \n",
      "max          70.000000    10.00000         0.030000        0.030000  \n",
      "   user_id first_name  last_name  age                                   city  \\\n",
      "0     1000   Anamaria      Bauer   45  Atlanta-Sandy Springs-Roswell, GA MSA   \n",
      "1     1001     Mickey  Wilkerson   28        Seattle-Tacoma-Bellevue, WA MSA   \n",
      "2     1002     Carlee    Hoffman   36   Las Vegas-Henderson-Paradise, NV MSA   \n",
      "3     1003   Reynaldo    Jenkins   52                          Tulsa, OK MSA   \n",
      "4     1004    Leonila   Thompson   40        Seattle-Tacoma-Bellevue, WA MSA   \n",
      "\n",
      "     reg_date      plan churn_date  \n",
      "0  2018-12-24  ultimate        NaN  \n",
      "1  2018-08-13      surf        NaN  \n",
      "2  2018-10-21      surf        NaN  \n",
      "3  2018-01-28      surf        NaN  \n",
      "4  2018-05-23      surf        NaN  \n",
      "<class 'pandas.core.frame.DataFrame'>\n",
      "RangeIndex: 500 entries, 0 to 499\n",
      "Data columns (total 8 columns):\n",
      " #   Column      Non-Null Count  Dtype \n",
      "---  ------      --------------  ----- \n",
      " 0   user_id     500 non-null    int64 \n",
      " 1   first_name  500 non-null    object\n",
      " 2   last_name   500 non-null    object\n",
      " 3   age         500 non-null    int64 \n",
      " 4   city        500 non-null    object\n",
      " 5   reg_date    500 non-null    object\n",
      " 6   plan        500 non-null    object\n",
      " 7   churn_date  34 non-null     object\n",
      "dtypes: int64(2), object(6)\n",
      "memory usage: 31.4+ KB\n",
      "None\n",
      "           user_id         age\n",
      "count   500.000000  500.000000\n",
      "mean   1249.500000   45.486000\n",
      "std     144.481833   16.972269\n",
      "min    1000.000000   18.000000\n",
      "25%    1124.750000   30.000000\n",
      "50%    1249.500000   46.000000\n",
      "75%    1374.250000   61.000000\n",
      "max    1499.000000   75.000000\n"
     ]
    }
   ],
   "source": [
    "# The data for this project is split into several tables. Explore each one to get an initial understanding of the data. Do necessary corrections to each table if necessary.\n",
    "\n",
    "# Exploring calls data\n",
    "print(calls_data.head())\n",
    "print(calls_data.info())\n",
    "print(calls_data.describe())\n",
    "\n",
    "# Exploring internet data\n",
    "print(internet_data.head())\n",
    "print(internet_data.info())\n",
    "print(internet_data.describe())\n",
    "\n",
    "# Exploring messages data\n",
    "print(messages_data.head())\n",
    "print(messages_data.info())\n",
    "print(messages_data.describe())\n",
    "\n",
    "# Exploring plans data\n",
    "print(plans_data.head())\n",
    "print(plans_data.info())\n",
    "print(plans_data.describe())\n",
    "\n",
    "# Exploring users data\n",
    "print(users_data.head())\n",
    "print(users_data.info())\n",
    "print(users_data.describe())"
   ]
  },
  {
   "cell_type": "markdown",
   "metadata": {},
   "source": [
    "## Plans"
   ]
  },
  {
   "cell_type": "code",
   "execution_count": 4,
   "metadata": {},
   "outputs": [
    {
     "name": "stdout",
     "output_type": "stream",
     "text": [
      "<class 'pandas.core.frame.DataFrame'>\n",
      "RangeIndex: 2 entries, 0 to 1\n",
      "Data columns (total 8 columns):\n",
      " #   Column                 Non-Null Count  Dtype  \n",
      "---  ------                 --------------  -----  \n",
      " 0   messages_included      2 non-null      int64  \n",
      " 1   mb_per_month_included  2 non-null      int64  \n",
      " 2   minutes_included       2 non-null      int64  \n",
      " 3   usd_monthly_pay        2 non-null      int64  \n",
      " 4   usd_per_gb             2 non-null      int64  \n",
      " 5   usd_per_message        2 non-null      float64\n",
      " 6   usd_per_minute         2 non-null      float64\n",
      " 7   plan_name              2 non-null      object \n",
      "dtypes: float64(2), int64(5), object(1)\n",
      "memory usage: 256.0+ bytes\n",
      "None\n"
     ]
    }
   ],
   "source": [
    "# Print the general/summary information about the plans' DataFrame\n",
    "print(plans_data.info())"
   ]
  },
  {
   "cell_type": "code",
   "execution_count": 5,
   "metadata": {},
   "outputs": [
    {
     "name": "stdout",
     "output_type": "stream",
     "text": [
      "   messages_included  mb_per_month_included  minutes_included  \\\n",
      "0                 50                  15360               500   \n",
      "1               1000                  30720              3000   \n",
      "\n",
      "   usd_monthly_pay  usd_per_gb  usd_per_message  usd_per_minute plan_name  \n",
      "0               20          10             0.03            0.03      surf  \n",
      "1               70           7             0.01            0.01  ultimate  \n"
     ]
    }
   ],
   "source": [
    "# Step 2: Print a Sample of Data\n",
    "print(plans_data.head())"
   ]
  },
  {
   "cell_type": "markdown",
   "metadata": {},
   "source": [
    "The data frame consists of 2 entries (rows) and 8 columns.\n",
    "\n",
    "Most columns have numeric data types (either int64 or float64), which are suitable for storing numerical values such as the number of included messages, included data in MB, etc.\n",
    "The plan_name column is of type object, which is suitable for storing the plan names (string values).\n",
    "Missing Values:\n",
    "\n",
    "There are no missing values in any of the columns as all columns have 2 non-null entries.\n",
    "\n",
    "The two plans available are \"surf\" and \"ultimate\".\n",
    "The \"surf\" plan offers 50 messages, 15360 MB of data, and 500 minutes included with a monthly charge of 20 USD. Additional usage charges are 0.03 USD per message and per minute, and 10 USD per GB.\n",
    "The \"ultimate\" plan offers 1000 messages, 30720 MB of data, and 3000 minutes included with a monthly charge of 70 USD. Additional usage charges are 0.01 USD per message and per minute, and 7 USD per GB.\n",
    "\n",
    "It seems there are no necessary changes to be made as the data types are appropriate and there are no missing values.\n",
    "Therefore, based on this initial analysis, it seems that no further changes or investigations are needed for this dataset. The data appears to be well-structured and clean."
   ]
  },
  {
   "cell_type": "markdown",
   "metadata": {},
   "source": [
    "## Fix data"
   ]
  },
  {
   "cell_type": "markdown",
   "metadata": {},
   "source": [
    "Data Types: The data types of the columns seem appropriate. Numeric data are represented as either int64 or float64, and the plan name is represented as an object (string), which is suitable.\n",
    "\n",
    "Missing Values: There are no missing values in the DataFrame, as indicated by the non-null count for each column.\n",
    "\n",
    "Data Integrity: Given that there are only two rows representing two different plans, you should verify that the values in each column represent the correct details for each plan.\n",
    "\n",
    "Data Enrichment: As for enriching the data, at this moment, it seems unnecessary since the plan details are quite straightforward. \n",
    "\n",
    "Column Names: The column names seem clear and representative of the data they hold.\n",
    "\n",
    "In conclusion, it seems that the data is already in a good state and might not require any fixes or enrichment at this stage. You could move on to analyzing this data in conjunction with the user data to understand user behaviors and the usage patterns better."
   ]
  },
  {
   "cell_type": "markdown",
   "metadata": {},
   "source": [
    "## Enrich data"
   ]
  },
  {
   "cell_type": "markdown",
   "metadata": {},
   "source": [
    "Data Enrichment: As for enriching the data, at this moment, it seems unnecessary since the plan details are quite straightforward. "
   ]
  },
  {
   "cell_type": "markdown",
   "metadata": {},
   "source": [
    "## Users"
   ]
  },
  {
   "cell_type": "code",
   "execution_count": 6,
   "metadata": {},
   "outputs": [
    {
     "name": "stdout",
     "output_type": "stream",
     "text": [
      "<class 'pandas.core.frame.DataFrame'>\n",
      "RangeIndex: 500 entries, 0 to 499\n",
      "Data columns (total 8 columns):\n",
      " #   Column      Non-Null Count  Dtype \n",
      "---  ------      --------------  ----- \n",
      " 0   user_id     500 non-null    int64 \n",
      " 1   first_name  500 non-null    object\n",
      " 2   last_name   500 non-null    object\n",
      " 3   age         500 non-null    int64 \n",
      " 4   city        500 non-null    object\n",
      " 5   reg_date    500 non-null    object\n",
      " 6   plan        500 non-null    object\n",
      " 7   churn_date  34 non-null     object\n",
      "dtypes: int64(2), object(6)\n",
      "memory usage: 31.4+ KB\n",
      "None\n",
      "           user_id         age\n",
      "count   500.000000  500.000000\n",
      "mean   1249.500000   45.486000\n",
      "std     144.481833   16.972269\n",
      "min    1000.000000   18.000000\n",
      "25%    1124.750000   30.000000\n",
      "50%    1249.500000   46.000000\n",
      "75%    1374.250000   61.000000\n",
      "max    1499.000000   75.000000\n"
     ]
    }
   ],
   "source": [
    "# Print the general/summary information about the users' DataFrame\n",
    "print(users_data.info())\n",
    "\n",
    "# Print a summary of the users DataFrame using the describe method, which provides statistical information\n",
    "print(users_data.describe())"
   ]
  },
  {
   "cell_type": "code",
   "execution_count": 7,
   "metadata": {},
   "outputs": [
    {
     "name": "stdout",
     "output_type": "stream",
     "text": [
      "     user_id first_name   last_name  age  \\\n",
      "358     1358     Vaughn   Maldonado   20   \n",
      "373     1373    Lindsey   Dickerson   21   \n",
      "390     1390    Deloras  Strickland   61   \n",
      "98      1098     Collin        Sims   33   \n",
      "219     1219      Gavin      Keller   51   \n",
      "\n",
      "                                            city    reg_date      plan  \\\n",
      "358    New York-Newark-Jersey City, NY-NJ-PA MSA  2018-04-26      surf   \n",
      "373  Minneapolis-St. Paul-Bloomington, MN-WI MSA  2018-08-30  ultimate   \n",
      "390       Chicago-Naperville-Elgin, IL-IN-WI MSA  2018-03-11  ultimate   \n",
      "98               Albany-Schenectady-Troy, NY MSA  2018-08-14      surf   \n",
      "219              Detroit-Warren-Dearborn, MI MSA  2018-05-14      surf   \n",
      "\n",
      "     churn_date  \n",
      "358  2018-10-22  \n",
      "373         NaN  \n",
      "390         NaN  \n",
      "98          NaN  \n",
      "219         NaN  \n"
     ]
    }
   ],
   "source": [
    "# Print a sample of data for users\n",
    "print(users_data.sample(5))"
   ]
  },
  {
   "cell_type": "markdown",
   "metadata": {},
   "source": [
    "Data Types:\n",
    "\n",
    "user_id: This column has an appropriate data type (int64).\n",
    "first_name and last_name: These columns are appropriately formatted as objects (strings).\n",
    "age: This column has an appropriate data type (int64).\n",
    "city: This column is formatted as an object, which is suitable.\n",
    "reg_date and churn_date: These columns are formatted as datetime64[ns], which is correct.\n",
    "plan: This column is formatted as an object, which is suitable.\n",
    "churned: This column has a boolean data type, which is suitable for storing True/False values.\n",
    "duration: This column has a timedelta64[ns] data type, suitable for storing time intervals.\n",
    "state: This column is formatted as an object, which is suitable.\n",
    "Missing Values:\n",
    "\n",
    "The churn_date column has a significant number of missing values (only 34 non-null entries out of 500). The missing values seem to be related to the users who have not churned, and this is an appropriate representation. However, it might be beneficial to note this as a deliberate design choice to avoid confusion.\n",
    "\n",
    "Data Quality:\n",
    "\n",
    "duration: This column represents the time span between the registration date and the churn date (or the current date if the user has not churned). You might want to ensure that this column has been correctly computed based on these dates.\n",
    "Statistical Summary:\n",
    "\n",
    "age: Users' age ranges from 18 to 75, with an average age of approximately 45.5 years.\n",
    "duration: The minimum duration is 7 days, and the maximum is about 2079 days. The mean duration is about 1784 days.\n",
    "\n",
    "Sample Data:\n",
    "\n",
    "It appears that a good number of users are from the New York-Newark-Jersey City, NY-NJ-PA MSA region. This might be an interesting factor to consider in your further analysis.\n",
    "Possible Fixes and Investigations:\n",
    "\n",
    "Ensure that the duration column has been computed correctly.\n",
    "It might be worth investigating the data for any inconsistencies or anomalies, especially in the city and state columns, to see if there is any mismatch or incorrect data.\n",
    "Overall, the data seems to be in good shape, and no immediate fixes seem necessary. "
   ]
  },
  {
   "cell_type": "markdown",
   "metadata": {},
   "source": [
    "### Fix Data"
   ]
  },
  {
   "cell_type": "code",
   "execution_count": 8,
   "metadata": {},
   "outputs": [],
   "source": [
    "users_data['churned'] = users_data['churn_date'].notna()"
   ]
  },
  {
   "cell_type": "markdown",
   "metadata": {},
   "source": [
    "### Enrich Data"
   ]
  },
  {
   "cell_type": "code",
   "execution_count": 9,
   "metadata": {},
   "outputs": [],
   "source": [
    "users_data['churn_date'] = pd.to_datetime(users_data['churn_date'])\n",
    "users_data['reg_date'] = pd.to_datetime(users_data['reg_date'])\n",
    "\n",
    "current_timestamp = pd.Timestamp.now()\n",
    "\n",
    "# Assuming users_data['churned'] is a boolean series that identifies if the user has churned or not\n",
    "users_data['duration'] = users_data['churn_date'].where(users_data['churned'], current_timestamp) - users_data['reg_date']\n"
   ]
  },
  {
   "cell_type": "markdown",
   "metadata": {},
   "source": [
    "## Calls"
   ]
  },
  {
   "cell_type": "code",
   "execution_count": 10,
   "metadata": {},
   "outputs": [
    {
     "name": "stdout",
     "output_type": "stream",
     "text": [
      "<class 'pandas.core.frame.DataFrame'>\n",
      "RangeIndex: 137735 entries, 0 to 137734\n",
      "Data columns (total 4 columns):\n",
      " #   Column     Non-Null Count   Dtype  \n",
      "---  ------     --------------   -----  \n",
      " 0   id         137735 non-null  object \n",
      " 1   user_id    137735 non-null  int64  \n",
      " 2   call_date  137735 non-null  object \n",
      " 3   duration   137735 non-null  float64\n",
      "dtypes: float64(1), int64(1), object(2)\n",
      "memory usage: 4.2+ MB\n",
      "None\n",
      "             user_id       duration\n",
      "count  137735.000000  137735.000000\n",
      "mean     1247.658046       6.745927\n",
      "std       139.416268       5.839241\n",
      "min      1000.000000       0.000000\n",
      "25%      1128.000000       1.290000\n",
      "50%      1247.000000       5.980000\n",
      "75%      1365.000000      10.690000\n",
      "max      1499.000000      37.600000\n"
     ]
    }
   ],
   "source": [
    "# Print the general/summary information about the calls' DataFrame\n",
    "print(calls_data.info())\n",
    "\n",
    "#Print statistical summary for numerical columns\n",
    "print(calls_data.describe())\n"
   ]
  },
  {
   "cell_type": "code",
   "execution_count": 11,
   "metadata": {},
   "outputs": [
    {
     "name": "stdout",
     "output_type": "stream",
     "text": [
      "              id  user_id   call_date  duration\n",
      "134588  1488_874     1488  2018-10-21      3.24\n",
      "98755    1354_97     1354  2018-11-28      0.00\n",
      "77288   1277_364     1277  2018-08-03      4.78\n",
      "119796  1417_454     1417  2018-11-04     11.75\n",
      "7279    1033_295     1033  2018-11-14      6.65\n"
     ]
    }
   ],
   "source": [
    "# Print a sample of data for calls\n",
    "print(calls_data.sample(5))"
   ]
  },
  {
   "cell_type": "markdown",
   "metadata": {},
   "source": [
    "The data types are generally well-assigned, although splitting the id column into two separate integer columns could be beneficial.\n",
    "Missing Data:\n",
    "\n",
    "No missing data observed.\n",
    "\n",
    "The year column might be redundant given that all entries are from 2018.\n",
    "\n",
    "Some calls have a duration of zero, potentially indicating missed calls.\n",
    "Potential Improvements:\n",
    "\n",
    "Investigate zero-duration calls further.\n",
    "Consider splitting the id column or removing the year column to streamline the dataset."
   ]
  },
  {
   "cell_type": "markdown",
   "metadata": {},
   "source": [
    "### Fix data"
   ]
  },
  {
   "cell_type": "code",
   "execution_count": 12,
   "metadata": {},
   "outputs": [],
   "source": [
    "calls_data = calls_data[calls_data['duration'] > 0]\n",
    "calls_data[['user_id_part', 'call_id_part']] = calls_data['id'].str.split('_', expand=True)"
   ]
  },
  {
   "cell_type": "markdown",
   "metadata": {},
   "source": [
    "### Enrich data"
   ]
  },
  {
   "cell_type": "code",
   "execution_count": 13,
   "metadata": {},
   "outputs": [
    {
     "name": "stdout",
     "output_type": "stream",
     "text": [
      "           user_id         age                      duration\n",
      "count   500.000000  500.000000                           500\n",
      "mean   1249.500000   45.486000  1788 days 03:40:55.328244128\n",
      "std     144.481833   16.972269   457 days 00:22:50.827535184\n",
      "min    1000.000000   18.000000               7 days 00:00:00\n",
      "25%    1124.750000   30.000000  1800 days 09:32:19.193395008\n",
      "50%    1249.500000   46.000000  1901 days 15:32:19.193395008\n",
      "75%    1374.250000   61.000000  1990 days 03:32:19.193395008\n",
      "max    1499.000000   75.000000     2083 days 03:32:19.193395\n"
     ]
    }
   ],
   "source": [
    "users_data['churn_date'] = pd.to_datetime(users_data['churn_date'])\n",
    "users_data['reg_date'] = pd.to_datetime(users_data['reg_date'])\n",
    "\n",
    "current_timestamp = pd.Timestamp.now()\n",
    "\n",
    "# Assuming users_data['churned'] is a boolean series that identifies if the user has churned or not\n",
    "users_data['duration'] = users_data['churn_date'].where(users_data['churned'], current_timestamp) - users_data['reg_date']\n",
    "print(users_data.describe())"
   ]
  },
  {
   "cell_type": "markdown",
   "metadata": {},
   "source": [
    "## Messages"
   ]
  },
  {
   "cell_type": "code",
   "execution_count": 14,
   "metadata": {},
   "outputs": [
    {
     "name": "stdout",
     "output_type": "stream",
     "text": [
      "<class 'pandas.core.frame.DataFrame'>\n",
      "RangeIndex: 76051 entries, 0 to 76050\n",
      "Data columns (total 3 columns):\n",
      " #   Column        Non-Null Count  Dtype \n",
      "---  ------        --------------  ----- \n",
      " 0   id            76051 non-null  object\n",
      " 1   user_id       76051 non-null  int64 \n",
      " 2   message_date  76051 non-null  object\n",
      "dtypes: int64(1), object(2)\n",
      "memory usage: 1.7+ MB\n",
      "None\n",
      "            user_id\n",
      "count  76051.000000\n",
      "mean    1245.972768\n",
      "std      139.843635\n",
      "min     1000.000000\n",
      "25%     1123.000000\n",
      "50%     1251.000000\n",
      "75%     1362.000000\n",
      "max     1497.000000\n"
     ]
    }
   ],
   "source": [
    "# Print the general/summary information about the messages' DataFrame\n",
    "print(messages_data.info())\n",
    "\n",
    "# Print the statistical summary of the messages' DataFrame\n",
    "print(messages_data.describe())"
   ]
  },
  {
   "cell_type": "code",
   "execution_count": 15,
   "metadata": {},
   "outputs": [
    {
     "name": "stdout",
     "output_type": "stream",
     "text": [
      "             id  user_id message_date\n",
      "71304  1465_275     1465   2018-08-25\n",
      "30513   1193_62     1193   2018-07-30\n",
      "20616  1130_291     1130   2018-09-29\n",
      "38398  1252_218     1252   2018-08-28\n",
      "10182  1076_419     1076   2018-10-10\n"
     ]
    }
   ],
   "source": [
    "# Print a sample of data for messages\n",
    "print(messages_data.sample(5))"
   ]
  },
  {
   "cell_type": "markdown",
   "metadata": {},
   "source": [
    "General Information:\n",
    "Data Types:\n",
    "\n",
    "Most columns have appropriate data types such as int64 for numerical values, object for string values, and datetime64[ns] for date values.\n",
    "week column has a data type of UInt32 which seems appropriate to store week numbers.\n",
    "Missing Values:\n",
    "\n",
    "The churn_date column has many missing values, indicating that a significant portion of users have not churned. This representation seems logical and might not need any change.\n",
    "Data Consistency:\n",
    "\n",
    "The year column has a constant value of 2018. It seems like the dataset is for the year 2018 exclusively. You might want to confirm that this column is necessary or if it can be dropped to reduce dimensionality.\n",
    "The hour column also has a constant value (0) throughout the dataset. If the hour information is not available or not necessary, it might be beneficial to drop this column to save memory.\n",
    "Statistical Summary:\n",
    "\n",
    "age: The minimum age is 18, and the maximum is 75 with a mean of approximately 45.4 years, which seems reasonable.\n",
    "duration: The users have been using the service for a period ranging from 9 days to about 2079 days, with an average duration of 1839 days. It seems to have a good range of data indicating both new and old users.\n",
    "Sample Data:\n",
    "The message_id_part and user_id_part columns seem to be parts of the id column, possibly representing the user ID and message ID, respectively. If these columns are just a decomposition of the id column, they might not be adding any new information and could potentially be removed to streamline the dataset.\n",
    "The plan column contains categorical data that represents the plan type the user has subscribed to. This information might be useful for analysis related to user behavior and plan popularity.\n",
    "The city and state columns provide information on the geographical distribution of the users, which might be essential for regional analysis.\n",
    "Possible Fixes and Further Investigation:\n",
    "Investigate if the year and hour columns are necessary or if they can be dropped to streamline the dataset.\n",
    "Verify if the duration column has been calculated correctly, based on the reg_date and churn_date (or the current date if the user has not churned).\n",
    "It might be beneficial to drop message_id_part and user_id_part if they are merely breaking down information from another column.\n",
    "It might be worth conducting an exploratory data analysis to uncover potential patterns or trends in the data, particularly with respect to the plan, city, and state columns."
   ]
  },
  {
   "cell_type": "markdown",
   "metadata": {},
   "source": [
    "### Fix data"
   ]
  },
  {
   "cell_type": "code",
   "execution_count": 16,
   "metadata": {},
   "outputs": [
    {
     "name": "stdout",
     "output_type": "stream",
     "text": [
      "<class 'pandas.core.frame.DataFrame'>\n",
      "RangeIndex: 76051 entries, 0 to 76050\n",
      "Data columns (total 3 columns):\n",
      " #   Column        Non-Null Count  Dtype         \n",
      "---  ------        --------------  -----         \n",
      " 0   id            76051 non-null  object        \n",
      " 1   user_id       76051 non-null  int64         \n",
      " 2   message_date  76051 non-null  datetime64[ns]\n",
      "dtypes: datetime64[ns](1), int64(1), object(1)\n",
      "memory usage: 1.7+ MB\n",
      "None\n",
      "            user_id\n",
      "count  76051.000000\n",
      "mean    1245.972768\n",
      "std      139.843635\n",
      "min     1000.000000\n",
      "25%     1123.000000\n",
      "50%     1251.000000\n",
      "75%     1362.000000\n",
      "max     1497.000000\n",
      "             id  user_id message_date\n",
      "74693   1483_16     1483   2018-07-30\n",
      "52287  1336_251     1336   2018-07-25\n",
      "38412  1252_243     1252   2018-08-09\n",
      "6782   1057_106     1057   2018-10-19\n",
      "10908  1077_179     1077   2018-06-05\n"
     ]
    }
   ],
   "source": [
    "# Convert the 'message_date' column to datetime data type\n",
    "messages_data['message_date'] = pd.to_datetime(messages_data['message_date'])\n",
    "\n",
    "# Now print the information and sample data again to verify changes\n",
    "print(messages_data.info())\n",
    "print(messages_data.describe())\n",
    "print(messages_data.sample(5))"
   ]
  },
  {
   "cell_type": "markdown",
   "metadata": {},
   "source": [
    "### Enrich data"
   ]
  },
  {
   "cell_type": "code",
   "execution_count": 17,
   "metadata": {},
   "outputs": [],
   "source": [
    "messages_data['year'] = messages_data['message_date'].dt.year\n",
    "messages_data['month'] = messages_data['message_date'].dt.month\n",
    "messages_data['day'] = messages_data['message_date'].dt.day\n",
    "messages_data['day_of_week'] = messages_data['message_date'].dt.dayofweek\n",
    "\n",
    "messages_data['user_message_count'] = messages_data.groupby('user_id')['id'].transform('count')\n",
    "\n",
    "messages_data['message_id'] = messages_data['id'].str.split('_').str[1].astype(int)\n",
    "\n",
    "messages_data = messages_data.merge(users_data, on='user_id', how='left')"
   ]
  },
  {
   "cell_type": "markdown",
   "metadata": {},
   "source": [
    "## Internet"
   ]
  },
  {
   "cell_type": "code",
   "execution_count": 18,
   "metadata": {},
   "outputs": [
    {
     "name": "stdout",
     "output_type": "stream",
     "text": [
      "<class 'pandas.core.frame.DataFrame'>\n",
      "RangeIndex: 104825 entries, 0 to 104824\n",
      "Data columns (total 4 columns):\n",
      " #   Column        Non-Null Count   Dtype  \n",
      "---  ------        --------------   -----  \n",
      " 0   id            104825 non-null  object \n",
      " 1   user_id       104825 non-null  int64  \n",
      " 2   session_date  104825 non-null  object \n",
      " 3   mb_used       104825 non-null  float64\n",
      "dtypes: float64(1), int64(1), object(2)\n",
      "memory usage: 3.2+ MB\n",
      "None\n",
      "             user_id        mb_used\n",
      "count  104825.000000  104825.000000\n",
      "mean     1242.496361     366.713701\n",
      "std       142.053913     277.170542\n",
      "min      1000.000000       0.000000\n",
      "25%      1122.000000     136.080000\n",
      "50%      1236.000000     343.980000\n",
      "75%      1367.000000     554.610000\n",
      "max      1499.000000    1693.470000\n"
     ]
    }
   ],
   "source": [
    "# Print the general/summary information about the internet DataFrame\n",
    "print(internet_data.info())\n",
    "\n",
    "# Print summary statistics\n",
    "print(internet_data.describe())"
   ]
  },
  {
   "cell_type": "code",
   "execution_count": 19,
   "metadata": {},
   "outputs": [
    {
     "name": "stdout",
     "output_type": "stream",
     "text": [
      "             id  user_id session_date  mb_used\n",
      "78632  1367_147     1367   2018-08-23   781.70\n",
      "22408  1101_300     1101   2018-05-21   295.67\n",
      "24050  1110_308     1110   2018-06-22   143.41\n",
      "20007  1090_241     1090   2018-11-21   265.07\n",
      "20701  1095_399     1095   2018-05-23   450.52\n"
     ]
    }
   ],
   "source": [
    "# Print a sample of data for the internet traffic\n",
    "print(internet_data.sample(5))"
   ]
  },
  {
   "cell_type": "markdown",
   "metadata": {},
   "source": [
    "The data types seem appropriate for each column. Dates are in datetime64 format, identifiers (id and user_id) are in object and integer formats, respectively, and quantitative data (mb_used, month, year, and day_of_week) are in various numerical formats.\n",
    "Missing Data:\n",
    "\n",
    "There are no missing values in any of the columns as indicated by the non-null count, which is a positive indication of data completeness.\n",
    "Potential Issues:\n",
    "\n",
    "The year column has a standard deviation of 0.0, indicating that all the values are the same (2018). This column might not provide any useful information for the analysis and could potentially be dropped.\n",
    "The id column seems to be a combination of user_id and another identifier separated by an underscore. If necessary, these could be split into separate columns for better analysis.\n",
    "There are entries in the mb_used column that have a value of 0.00, which represents no internet usage. Depending on the analysis, these entries might be considered noise and could potentially be removed.\n",
    "Possible Improvements:\n",
    "\n",
    "It might be useful to extract more information from the session_date column, such as the day of the month or the week of the year, to facilitate more detailed time series analysis.\n",
    "Depending on the specific requirements of your analysis, it might be useful to categorize the amount of data used (mb_used) into different groups (e.g., low usage, medium usage, high usage) to facilitate categorical analysis."
   ]
  },
  {
   "cell_type": "markdown",
   "metadata": {},
   "source": [
    "### Fix data"
   ]
  },
  {
   "cell_type": "code",
   "execution_count": 20,
   "metadata": {},
   "outputs": [],
   "source": [
    "internet_data['session_date'] = pd.to_datetime(internet_data['session_date'])\n",
    "internet_data = internet_data[internet_data['mb_used'] > 0]"
   ]
  },
  {
   "cell_type": "markdown",
   "metadata": {},
   "source": [
    "### Enrich data"
   ]
  },
  {
   "cell_type": "code",
   "execution_count": 21,
   "metadata": {},
   "outputs": [],
   "source": [
    "internet_data['day_of_month'] = internet_data['session_date'].dt.day\n",
    "internet_data['week_of_year'] = internet_data['session_date'].dt.isocalendar().week\n",
    "bins = [0, 100, 500, 1700]\n",
    "labels = ['Low', 'Medium', 'High']\n",
    "internet_data['usage_category'] = pd.cut(internet_data['mb_used'], bins=bins, labels=labels)"
   ]
  },
  {
   "cell_type": "markdown",
   "metadata": {},
   "source": [
    "## Study plan conditions"
   ]
  },
  {
   "cell_type": "code",
   "execution_count": 22,
   "metadata": {},
   "outputs": [
    {
     "name": "stdout",
     "output_type": "stream",
     "text": [
      "<class 'pandas.core.frame.DataFrame'>\n",
      "RangeIndex: 2 entries, 0 to 1\n",
      "Data columns (total 8 columns):\n",
      " #   Column                 Non-Null Count  Dtype  \n",
      "---  ------                 --------------  -----  \n",
      " 0   messages_included      2 non-null      int64  \n",
      " 1   mb_per_month_included  2 non-null      int64  \n",
      " 2   minutes_included       2 non-null      int64  \n",
      " 3   usd_monthly_pay        2 non-null      int64  \n",
      " 4   usd_per_gb             2 non-null      int64  \n",
      " 5   usd_per_message        2 non-null      float64\n",
      " 6   usd_per_minute         2 non-null      float64\n",
      " 7   plan_name              2 non-null      object \n",
      "dtypes: float64(2), int64(5), object(1)\n",
      "memory usage: 256.0+ bytes\n",
      "None\n",
      "   messages_included  mb_per_month_included  minutes_included  \\\n",
      "0                 50                  15360               500   \n",
      "1               1000                  30720              3000   \n",
      "\n",
      "   usd_monthly_pay  usd_per_gb  usd_per_message  usd_per_minute plan_name  \n",
      "0               20          10             0.03            0.03      surf  \n",
      "1               70           7             0.01            0.01  ultimate  \n"
     ]
    }
   ],
   "source": [
    "# Print out the plan conditions and make sure they are clear for you\n",
    "print(plans_data.info())\n",
    "print(plans_data.head())\n"
   ]
  },
  {
   "cell_type": "markdown",
   "metadata": {},
   "source": [
    "## Aggregate data per user"
   ]
  },
  {
   "cell_type": "code",
   "execution_count": 23,
   "metadata": {},
   "outputs": [],
   "source": [
    "# Calculate the number of calls made by each user per month. Save the result.\n",
    "calls_data['duration'] = np.ceil(calls_data['duration'])\n",
    "calls_data['call_date'] = pd.to_datetime(calls_data['call_date'])\n",
    "calls_data['month'] = calls_data['call_date'].dt.month\n",
    "\n",
    "# Group by 'user_id' and 'month' and sum the rounded 'duration'\n",
    "calls_per_user_per_month = calls_data.groupby(['user_id', 'month'])['duration'].sum().reset_index(name='total_duration')\n",
    "\n",
    "# Now you can save this data to a CSV\n",
    "calls_per_user_per_month.to_csv('calls_per_user_per_month.csv', index=False)"
   ]
  },
  {
   "cell_type": "code",
   "execution_count": 24,
   "metadata": {},
   "outputs": [],
   "source": [
    "# Calculate the amount of minutes spent by each user per month. Save the result.\n",
    "calls_data['call_date'] = pd.to_datetime(calls_data['call_date'])\n",
    "calls_data['month'] = calls_data['call_date'].dt.month\n",
    "minutes_per_user_per_month = calls_data.groupby(['user_id', 'month'])['duration'].sum().reset_index(name='total_minutes')\n",
    "minutes_per_user_per_month.to_csv('minutes_per_user_per_month.csv', index=False)"
   ]
  },
  {
   "cell_type": "code",
   "execution_count": 25,
   "metadata": {},
   "outputs": [],
   "source": [
    "# Calculate the number of messages sent by each user per month. Save the result.\n",
    "messages_data['message_date'] = pd.to_datetime(messages_data['message_date'])\n",
    "messages_data['month'] = messages_data['message_date'].dt.month\n",
    "messages_per_user_per_month = messages_data.groupby(['user_id', 'month']).size().reset_index(name='number_of_messages')\n",
    "messages_per_user_per_month.to_csv('messages_per_user_per_month.csv', index=False)\n"
   ]
  },
  {
   "cell_type": "code",
   "execution_count": 26,
   "metadata": {},
   "outputs": [],
   "source": [
    "# Calculate the volume of internet traffic used by each user per month. Save the result.\n",
    "internet_data['session_date'] = pd.to_datetime(internet_data['session_date'])\n",
    "internet_data['month'] = internet_data['session_date'].dt.month\n",
    "data_volume_per_user_per_month = internet_data.groupby(['user_id', 'month'])['mb_used'].sum().reset_index(name='total_mb_used')\n",
    "data_volume_per_user_per_month.to_csv('data_volume_per_user_per_month.csv', index=False)\n",
    "\n"
   ]
  },
  {
   "cell_type": "code",
   "execution_count": 27,
   "metadata": {},
   "outputs": [],
   "source": [
    "# Merge the data for calls, minutes, messages, internet based on user_id and month\n",
    "# First, merge the calls data and minutes data (if they are separate)\n",
    "combined_data = pd.merge(calls_per_user_per_month, minutes_per_user_per_month, on=['user_id', 'month'], how='outer')\n",
    "\n",
    "# Next, merge this combined data with messages data\n",
    "combined_data = pd.merge(combined_data, messages_per_user_per_month, on=['user_id', 'month'], how='outer')\n",
    "\n",
    "# Finally, merge this with the internet data\n",
    "final_combined_data = pd.merge(combined_data, data_volume_per_user_per_month, on=['user_id', 'month'], how='outer')\n",
    "\n",
    "# To fill NaN values with 0, if any, after the outer join\n",
    "final_combined_data.fillna(0, inplace=True)\n",
    "\n",
    "# Now, 'final_combined_data' will have one record per user per month with all the information\n",
    "# You can save this to a CSV file\n",
    "final_combined_data.to_csv('final_combined_data_per_user_per_month.csv', index=False)\n"
   ]
  },
  {
   "cell_type": "code",
   "execution_count": 28,
   "metadata": {},
   "outputs": [],
   "source": [
    "# Add the plan information\n",
    "user_data_with_plan = pd.merge(users_data, plans_data, left_on='plan', right_on='plan_name', how='left')\n",
    "final_data_with_plan_info = pd.merge(final_combined_data, user_data_with_plan, on='user_id', how='left')\n",
    "final_data_with_plan_info.to_csv('final_data_with_plan_info.csv', index=False)"
   ]
  },
  {
   "cell_type": "code",
   "execution_count": 29,
   "metadata": {},
   "outputs": [],
   "source": [
    "def calculate_monthly_revenue(row):\n",
    "    # Get the user's plan details (like free limits and per unit costs)\n",
    "    plan_details = plans_data[plans_data['plan_name'] == row['plan']].iloc[0]\n",
    "\n",
    "    # Calculate the extra usage\n",
    "    extra_calls = max(0, row['total_minutes'] - plan_details['minutes_included'])\n",
    "    extra_messages = max(0, row['number_of_messages'] - plan_details['messages_included'])\n",
    "    extra_data = max(0, row['total_mb_used'] - plan_details['mb_per_month_included'])\n",
    "\n",
    "    # Calculate the extra charges\n",
    "    extra_call_charge = extra_calls * plan_details['usd_per_minute']\n",
    "    extra_message_charge = extra_messages * plan_details['usd_per_message']\n",
    "    \n",
    "    # Calculate the extra data charge (rounded up to nearest GB)\n",
    "    extra_data_charge = np.ceil(extra_data / 1024) * plan_details['usd_per_gb'] \n",
    "\n",
    "    # Calculate the total monthly charge\n",
    "    total_monthly_charge = plan_details['usd_monthly_pay'] + extra_call_charge + extra_message_charge + extra_data_charge\n",
    "\n",
    "    return total_monthly_charge\n",
    "\n"
   ]
  },
  {
   "cell_type": "code",
   "execution_count": 30,
   "metadata": {},
   "outputs": [
    {
     "name": "stdout",
     "output_type": "stream",
     "text": [
      "   user_id  month  total_duration  total_minutes  number_of_messages  \\\n",
      "0     1000     12           124.0          124.0                11.0   \n",
      "1     1001      8           182.0          182.0                30.0   \n",
      "2     1001      9           315.0          315.0                44.0   \n",
      "3     1001     10           393.0          393.0                53.0   \n",
      "4     1001     11           426.0          426.0                36.0   \n",
      "\n",
      "   total_mb_used first_name  last_name  age  \\\n",
      "0        1901.47   Anamaria      Bauer   45   \n",
      "1        6919.15     Mickey  Wilkerson   28   \n",
      "2       13314.82     Mickey  Wilkerson   28   \n",
      "3       22330.49     Mickey  Wilkerson   28   \n",
      "4       18504.30     Mickey  Wilkerson   28   \n",
      "\n",
      "                                    city  ...                  duration  \\\n",
      "0  Atlanta-Sandy Springs-Roswell, GA MSA  ... 1726 days 03:32:19.193395   \n",
      "1        Seattle-Tacoma-Bellevue, WA MSA  ... 1859 days 03:32:19.193395   \n",
      "2        Seattle-Tacoma-Bellevue, WA MSA  ... 1859 days 03:32:19.193395   \n",
      "3        Seattle-Tacoma-Bellevue, WA MSA  ... 1859 days 03:32:19.193395   \n",
      "4        Seattle-Tacoma-Bellevue, WA MSA  ... 1859 days 03:32:19.193395   \n",
      "\n",
      "  messages_included mb_per_month_included  minutes_included usd_monthly_pay  \\\n",
      "0              1000                 30720              3000              70   \n",
      "1                50                 15360               500              20   \n",
      "2                50                 15360               500              20   \n",
      "3                50                 15360               500              20   \n",
      "4                50                 15360               500              20   \n",
      "\n",
      "   usd_per_gb  usd_per_message  usd_per_minute  plan_name  monthly_revenue  \n",
      "0           7             0.01            0.01   ultimate            70.00  \n",
      "1          10             0.03            0.03       surf            20.00  \n",
      "2          10             0.03            0.03       surf            20.00  \n",
      "3          10             0.03            0.03       surf            90.09  \n",
      "4          10             0.03            0.03       surf            60.00  \n",
      "\n",
      "[5 rows x 24 columns]\n"
     ]
    }
   ],
   "source": [
    "final_data_with_plan_info['monthly_revenue'] = final_data_with_plan_info.apply(calculate_monthly_revenue, axis=1)\n",
    "print(final_data_with_plan_info.head())"
   ]
  },
  {
   "cell_type": "markdown",
   "metadata": {},
   "source": [
    "## Study user behaviour"
   ]
  },
  {
   "cell_type": "markdown",
   "metadata": {},
   "source": [
    "### Calls"
   ]
  },
  {
   "cell_type": "code",
   "execution_count": 31,
   "metadata": {},
   "outputs": [
    {
     "data": {
      "image/png": "[encoded data removed]",
      "text/plain": [
       "<Figure size 864x432 with 1 Axes>"
      ]
     },
     "metadata": {
      "needs_background": "light"
     },
     "output_type": "display_data"
    }
   ],
   "source": [
    "# Compare average duration of calls per each plan per each distinct month. Plot a bar plat to visualize it.\n",
    "import pandas as pd\n",
    "import matplotlib.pyplot as plt\n",
    "\n",
    "# Merge \"calls_data\" and \"user_data\" DataFrames on the \"user_id\" column\n",
    "merged_data = calls_data.merge(users_data[['user_id', 'plan']], on='user_id')\n",
    "\n",
    "# Group the merged data by \"plan\" and \"month\" and calculate the mean call duration\n",
    "average_duration_per_plan_month = merged_data.groupby(['plan', 'month'])['duration'].mean().reset_index()\n",
    "\n",
    "# Get unique plans and months in the data\n",
    "unique_plans = average_duration_per_plan_month['plan'].unique()\n",
    "unique_months = average_duration_per_plan_month['month'].unique()\n",
    "\n",
    "# Create a bar plot to visualize average duration per plan and month\n",
    "plt.figure(figsize=(12, 6))\n",
    "\n",
    "for plan in unique_plans:\n",
    "    plan_data = average_duration_per_plan_month[average_duration_per_plan_month['plan'] == plan]\n",
    "    plt.bar(plan_data['month'], plan_data['duration'], label=f'Plan {plan}', alpha=0.7)\n",
    "\n",
    "# Set title, labels, and legend\n",
    "plt.title('Average Duration of Calls Per Plan Each Month')\n",
    "plt.xlabel('Month')\n",
    "plt.ylabel('Average Duration (minutes)')\n",
    "plt.xticks(unique_months)  # Ensure all months are displayed on the x-axis\n",
    "plt.legend()\n",
    "\n",
    "# Show the plot\n",
    "plt.show()\n"
   ]
  },
  {
   "cell_type": "code",
   "execution_count": 32,
   "metadata": {},
   "outputs": [
    {
     "data": {
      "image/png": "[encoded data removed]",
      "text/plain": [
       "<Figure size 864x432 with 1 Axes>"
      ]
     },
     "metadata": {
      "needs_background": "light"
     },
     "output_type": "display_data"
    }
   ],
   "source": [
    "# Compare the number of minutes users of each plan require each month. Plot a histogram.\n",
    "# Merge \"calls_data\" and \"user_data\" DataFrames on the \"user_id\" column\n",
    "merged_data = calls_data.merge(users_data[['user_id', 'plan']], on='user_id')\n",
    "\n",
    "# Group the merged data by \"plan\" and \"month\" and calculate the total call duration\n",
    "total_duration_per_plan_month = merged_data.groupby(['plan', 'month'])['duration'].sum().reset_index()\n",
    "\n",
    "# Get unique plans in the data\n",
    "unique_plans = total_duration_per_plan_month['plan'].unique()\n",
    "\n",
    "# Create a histogram for each plan\n",
    "plt.figure(figsize=(12, 6))\n",
    "\n",
    "for plan in unique_plans:\n",
    "    subset = total_duration_per_plan_month[total_duration_per_plan_month['plan'] == plan]\n",
    "    plt.hist(subset['duration'], bins=10, alpha=0.5, label=f'Plan {plan}')\n",
    "\n",
    "# Set title and labels\n",
    "plt.title('Distribution of Total Monthly Call Duration Per Plan')\n",
    "plt.xlabel('Total Call Duration (minutes)')\n",
    "plt.ylabel('Frequency')\n",
    "plt.legend()\n",
    "\n",
    "# Show the plot\n",
    "plt.show()\n"
   ]
  },
  {
   "cell_type": "code",
   "execution_count": 33,
   "metadata": {},
   "outputs": [
    {
     "name": "stdout",
     "output_type": "stream",
     "text": [
      "    month      mean        var\n",
      "0       1  8.872180  26.172932\n",
      "1       2  8.736089  29.293297\n",
      "2       3  8.580916  27.742493\n",
      "3       4  8.788235  27.858135\n",
      "4       5  8.907055  29.039098\n",
      "5       6  8.904898  29.363306\n",
      "6       7  8.880031  28.373652\n",
      "7       8  8.850110  28.380764\n",
      "8       9  8.885826  29.070039\n",
      "9      10  8.842503  28.554449\n",
      "10     11  8.875182  28.617397\n",
      "11     12  8.919322  28.731379\n"
     ]
    }
   ],
   "source": [
    "# Group the data by 'month' and calculate the mean and variance of the 'duration' column\n",
    "monthly_stats = calls_data.groupby('month')['duration'].agg(['mean', 'var']).reset_index()\n",
    "\n",
    "# Print the calculated mean and variance for each month\n",
    "print(monthly_stats)\n"
   ]
  },
  {
   "cell_type": "code",
   "execution_count": 34,
   "metadata": {},
   "outputs": [
    {
     "data": {
      "image/png": "[encoded data removed]",
      "text/plain": [
       "<Figure size 864x360 with 2 Axes>"
      ]
     },
     "metadata": {
      "needs_background": "light"
     },
     "output_type": "display_data"
    },
    {
     "name": "stdout",
     "output_type": "stream",
     "text": [
      "Surf Plan - Call Duration (minutes) - Mean: 428.7495232040687, Std Dev: 234.37861376695076, Variance: 54933.334591317485\n",
      "Ultimate Plan - Call Duration (minutes) - Mean: 430.45, Std Dev: 240.34168443650756, Variance: 57764.125277777785\n",
      "\n"
     ]
    },
    {
     "data": {
      "image/png": "[encoded data removed]",
      "text/plain": [
       "<Figure size 864x360 with 2 Axes>"
      ]
     },
     "metadata": {
      "needs_background": "light"
     },
     "output_type": "display_data"
    },
    {
     "name": "stdout",
     "output_type": "stream",
     "text": [
      "Surf Plan - Message Count - Mean: 31.15956770502225, Std Dev: 33.556046127734746, Variance: 1126.008231726662\n",
      "Ultimate Plan - Message Count - Mean: 37.55138888888889, Std Dev: 34.743026850544474, Variance: 1207.0779147376545\n",
      "\n"
     ]
    },
    {
     "data": {
      "image/png": "[encoded data removed]",
      "text/plain": [
       "<Figure size 864x360 with 2 Axes>"
      ]
     },
     "metadata": {
      "needs_background": "light"
     },
     "output_type": "display_data"
    },
    {
     "name": "stdout",
     "output_type": "stream",
     "text": [
      "Surf Plan - Data Used (MB) - Mean: 16558.283490146216, Std Dev: 8010.965714757073, Variance: 64175571.683013305\n",
      "Ultimate Plan - Data Used (MB) - Mean: 17214.699694444447, Std Dev: 7846.442833455571, Variance: 61566665.1386863\n",
      "\n"
     ]
    }
   ],
   "source": [
    "import numpy as np\n",
    "import matplotlib.pyplot as plt\n",
    "\n",
    "# Assuming 'plan', 'total_duration', 'number_of_messages', and 'total_mb_used' columns exist in your dataset\n",
    "if 'plan_name' in final_data_with_plan_info.columns and set(final_data_with_plan_info['plan_name'].str.lower().unique()).issuperset({'surf', 'ultimate'}):\n",
    "    surf_data = final_data_with_plan_info[final_data_with_plan_info['plan_name'].str.lower() == 'surf']\n",
    "    ultimate_data = final_data_with_plan_info[final_data_with_plan_info['plan_name'].str.lower() == 'ultimate']\n",
    "else:\n",
    "    print(\"Error: plan_name column is missing or does not contain 'surf' and 'ultimate' values.\")\n",
    "    # If the plan column is missing, exit the script here\n",
    "    exit()\n",
    "\n",
    "parameters = [\n",
    "    ('total_duration', 'Call Duration (minutes)'), \n",
    "    ('number_of_messages', 'Message Count'), \n",
    "    ('total_mb_used', 'Data Used (MB)')\n",
    "]\n",
    "\n",
    "for idx, (param, label) in enumerate(parameters):\n",
    "    # Check if the column names are correct\n",
    "    if param not in final_data_with_plan_info.columns:\n",
    "        print(f\"Error: The column '{param}' does not exist in the dataset.\")\n",
    "        continue\n",
    "\n",
    "    plt.figure(figsize=(12, 5))\n",
    "\n",
    "    plt.subplot(1, 2, 1)\n",
    "    plt.hist(surf_data[param].dropna(), bins=20, edgecolor='black')  # Changed boxplot to hist\n",
    "    plt.title('Surf Plan - ' + label + ' Distribution (Histogram)')  # Enhanced title\n",
    "    plt.xlabel(label)\n",
    "    plt.ylabel('Frequency')  # Changed ylabel to 'Frequency'\n",
    "\n",
    "    plt.subplot(1, 2, 2)\n",
    "    plt.hist(ultimate_data[param].dropna(), bins=20, edgecolor='black')  # Changed boxplot to hist\n",
    "    plt.title('Ultimate Plan - ' + label + ' Distribution (Histogram)')  # Enhanced title\n",
    "    plt.xlabel(label)\n",
    "    plt.ylabel('Frequency')  # Changed ylabel to 'Frequency'\n",
    "\n",
    "    plt.tight_layout()\n",
    "    plt.show()\n",
    "\n",
    "    # Calculate and print statistics\n",
    "    print(f'Surf Plan - {label} - Mean: {np.mean(surf_data[param])}, Std Dev: {np.std(surf_data[param])}, Variance: {np.var(surf_data[param])}')\n",
    "    print(f'Ultimate Plan - {label} - Mean: {np.mean(ultimate_data[param])}, Std Dev: {np.std(ultimate_data[param])}, Variance: {np.var(ultimate_data[param])}')\n",
    "    print()\n"
   ]
  },
  {
   "cell_type": "markdown",
   "metadata": {},
   "source": [
    "The mean call duration is very similar for both plans, with users on the Ultimate plan speaking slightly longer on average. However, the higher standard deviation in the Ultimate plan suggests a wider spread of values, indicating more variability in call durations among users.\n",
    "Users on the Ultimate plan send more messages on average compared to those on the Surf plan. The standard deviations are quite high for both plans, indicating a significant variability in the number of messages sent by users in both groups.\n",
    "Users on the Ultimate plan use more data on average compared to those on the Surf plan. Again, both groups show a considerable spread in data usage, as indicated by the high standard deviations."
   ]
  },
  {
   "cell_type": "code",
   "execution_count": 44,
   "metadata": {},
   "outputs": [
    {
     "data": {
      "image/png": "[encoded data removed]",
      "text/plain": [
       "<Figure size 720x576 with 1 Axes>"
      ]
     },
     "metadata": {},
     "output_type": "display_data"
    }
   ],
   "source": [
    "\n",
    "plt.style.use('ggplot') # Add style. You can put it in the very first cell, after plt is defined.\n",
    "\n",
    "final_data_with_plan_info.groupby('plan_name')['total_minutes'].plot.hist(alpha=0.5, legend=True, bins=25, figsize=(10,8))\n",
    "\n",
    "plt.legend(['Surf', 'Ultimate'])\n",
    "plt.title('Title')\n",
    "plt.xlabel('x')\n",
    "plt.ylabel('y')\n",
    "\n",
    "plt.show()"
   ]
  },
  {
   "cell_type": "code",
   "execution_count": 9,
   "metadata": {},
   "outputs": [
    {
     "ename": "NameError",
     "evalue": "name 'final_data_with_plan_info' is not defined",
     "output_type": "error",
     "traceback": [
      "\u001b[0;31m---------------------------------------------------------------------------\u001b[0m",
      "\u001b[0;31mNameError\u001b[0m                                 Traceback (most recent call last)",
      "\u001b[0;32m/tmp/ipykernel_59/967506225.py\u001b[0m in \u001b[0;36m<module>\u001b[0;34m\u001b[0m\n\u001b[0;32m----> 1\u001b[0;31m final_data_with_plan_info.pivot_table(index='plan_name', values=['total_minutes', 'number_of_messages', 'total_mb_used'],\n\u001b[0m\u001b[1;32m      2\u001b[0m                        aggfunc=['mean', 'std', 'var'])\n",
      "\u001b[0;31mNameError\u001b[0m: name 'final_data_with_plan_info' is not defined"
     ]
    }
   ],
   "source": [
    "final_data_with_plan_info.pivot_table(index='plan_name', values=['total_minutes', 'number_of_messages', 'total_mb_used'],\n",
    "                       aggfunc=['mean', 'std', 'var'])"
   ]
  },
  {
   "cell_type": "markdown",
   "metadata": {},
   "source": [
    " "
   ]
  },
  {
   "cell_type": "markdown",
   "metadata": {},
   "source": [
    "### Messages"
   ]
  },
  {
   "cell_type": "code",
   "execution_count": 36,
   "metadata": {},
   "outputs": [
    {
     "name": "stdout",
     "output_type": "stream",
     "text": [
      "Index(['id', 'user_id', 'message_date', 'year', 'month', 'day', 'day_of_week',\n",
      "       'user_message_count', 'message_id', 'first_name', 'last_name', 'age',\n",
      "       'city', 'reg_date', 'plan', 'churn_date', 'churned', 'duration'],\n",
      "      dtype='object')\n",
      "Index(['user_id', 'first_name', 'last_name', 'age', 'city', 'reg_date', 'plan',\n",
      "       'churn_date', 'churned', 'duration'],\n",
      "      dtype='object')\n"
     ]
    }
   ],
   "source": [
    "print(messages_data.columns)\n",
    "print(users_data.columns)"
   ]
  },
  {
   "cell_type": "code",
   "execution_count": 37,
   "metadata": {},
   "outputs": [
    {
     "name": "stdout",
     "output_type": "stream",
     "text": [
      "         id  user_id message_date  year  month  day  day_of_week  \\\n",
      "0  1000_125     1000   2018-12-27  2018     12   27            3   \n",
      "1  1000_160     1000   2018-12-31  2018     12   31            0   \n",
      "2  1000_223     1000   2018-12-31  2018     12   31            0   \n",
      "3  1000_251     1000   2018-12-27  2018     12   27            3   \n",
      "4  1000_255     1000   2018-12-26  2018     12   26            2   \n",
      "\n",
      "   user_message_count  message_id first_name last_name  age  \\\n",
      "0                  11         125   Anamaria     Bauer   45   \n",
      "1                  11         160   Anamaria     Bauer   45   \n",
      "2                  11         223   Anamaria     Bauer   45   \n",
      "3                  11         251   Anamaria     Bauer   45   \n",
      "4                  11         255   Anamaria     Bauer   45   \n",
      "\n",
      "                                    city   reg_date    plan_x churn_date  \\\n",
      "0  Atlanta-Sandy Springs-Roswell, GA MSA 2018-12-24  ultimate        NaT   \n",
      "1  Atlanta-Sandy Springs-Roswell, GA MSA 2018-12-24  ultimate        NaT   \n",
      "2  Atlanta-Sandy Springs-Roswell, GA MSA 2018-12-24  ultimate        NaT   \n",
      "3  Atlanta-Sandy Springs-Roswell, GA MSA 2018-12-24  ultimate        NaT   \n",
      "4  Atlanta-Sandy Springs-Roswell, GA MSA 2018-12-24  ultimate        NaT   \n",
      "\n",
      "   churned                  duration    plan_y  \n",
      "0    False 1726 days 03:32:19.193395  ultimate  \n",
      "1    False 1726 days 03:32:19.193395  ultimate  \n",
      "2    False 1726 days 03:32:19.193395  ultimate  \n",
      "3    False 1726 days 03:32:19.193395  ultimate  \n",
      "4    False 1726 days 03:32:19.193395  ultimate  \n"
     ]
    }
   ],
   "source": [
    "merged_data = messages_data.merge(users_data[['user_id', 'plan']], on='user_id')\n",
    "print(merged_data.head())\n"
   ]
  },
  {
   "cell_type": "code",
   "execution_count": 38,
   "metadata": {},
   "outputs": [
    {
     "data": {
      "image/png": "[encoded data removed]",
      "text/plain": [
       "<Figure size 864x432 with 1 Axes>"
      ]
     },
     "metadata": {
      "needs_background": "light"
     },
     "output_type": "display_data"
    }
   ],
   "source": [
    "# Compare the number of messages users of each plan tend to send each month\n",
    "# Merge \"messages_data\" and \"user_data\" DataFrames on the \"user_id\" column\n",
    "merged_data = messages_data.merge(users_data[['user_id', 'plan']], on='user_id')\n",
    "\n",
    "# Extract the month from the 'message_date' column and create a new 'month' column\n",
    "merged_data['month'] = merged_data['message_date'].dt.month\n",
    "\n",
    "# Group the merged data by \"plan_x\" and \"month\" and calculate the total number of messages sent\n",
    "total_messages_per_plan_month = merged_data.groupby(['plan_x', 'month'])['user_id'].count().reset_index()\n",
    "\n",
    "# Get unique plans in the data\n",
    "unique_plans = total_messages_per_plan_month['plan_x'].unique()\n",
    "\n",
    "# Create a bar plot to visualize the number of messages sent per plan and month\n",
    "plt.figure(figsize=(12, 6))\n",
    "\n",
    "for plan in unique_plans:\n",
    "    plan_data = total_messages_per_plan_month[total_messages_per_plan_month['plan_x'] == plan]\n",
    "    plt.bar(plan_data['month'], plan_data['user_id'], label=f'Plan {plan}', alpha=0.7)\n",
    "\n",
    "# Set title, labels, and legend\n",
    "plt.title('Number of Messages Sent Per Plan Each Month')\n",
    "plt.xlabel('Month')\n",
    "plt.ylabel('Number of Messages Sent')\n",
    "plt.xticks(range(1, 13))  # Ensure all months are displayed on the x-axis\n",
    "plt.legend()\n",
    "\n",
    "# Show the plot\n",
    "plt.show()\n",
    "\n"
   ]
  },
  {
   "cell_type": "markdown",
   "metadata": {},
   "source": [
    "Surf users send more messages than Unlimited users."
   ]
  },
  {
   "cell_type": "markdown",
   "metadata": {},
   "source": [
    " "
   ]
  },
  {
   "cell_type": "markdown",
   "metadata": {},
   "source": [
    "### Internet"
   ]
  },
  {
   "cell_type": "code",
   "execution_count": 39,
   "metadata": {},
   "outputs": [
    {
     "data": {
      "image/png": "[encoded data removed]",
      "text/plain": [
       "<Figure size 720x432 with 1 Axes>"
      ]
     },
     "metadata": {
      "needs_background": "light"
     },
     "output_type": "display_data"
    }
   ],
   "source": [
    "# Compare the amount of internet traffic consumed by users per plan\n",
    "merged_data = internet_data.merge(users_data[['user_id', 'plan']], on='user_id')\n",
    "\n",
    "# Group the merged data by \"plan\" and calculate the total internet traffic consumed\n",
    "total_traffic_per_plan = merged_data.groupby('plan')['mb_used'].sum().reset_index()\n",
    "\n",
    "# Create a bar plot to visualize the total internet traffic consumed per plan\n",
    "plt.figure(figsize=(10, 6))\n",
    "plt.bar(total_traffic_per_plan['plan'], total_traffic_per_plan['mb_used'], color=['blue', 'green', 'orange'])\n",
    "plt.title('Total Internet Traffic Consumed Per Plan')\n",
    "plt.xlabel('Plan')\n",
    "plt.ylabel('Total Data Usage (in MB)')\n",
    "\n",
    "# Show the plot\n",
    "plt.show()"
   ]
  },
  {
   "cell_type": "markdown",
   "metadata": {},
   "source": [
    "Surf users use almost double data than Ultimate users"
   ]
  },
  {
   "cell_type": "markdown",
   "metadata": {},
   "source": [
    "## Revenue"
   ]
  },
  {
   "cell_type": "code",
   "execution_count": 40,
   "metadata": {},
   "outputs": [
    {
     "data": {
      "image/png": "[encoded data removed]",
      "text/plain": [
       "<Figure size 432x288 with 1 Axes>"
      ]
     },
     "metadata": {
      "needs_background": "light"
     },
     "output_type": "display_data"
    }
   ],
   "source": [
    "import matplotlib.pyplot as plt\n",
    "\n",
    "# Get data for each plan\n",
    "surf_data = final_data_with_plan_info[final_data_with_plan_info['plan_name'] == 'surf']['monthly_revenue']\n",
    "ultimate_data = final_data_with_plan_info[final_data_with_plan_info['plan_name'] == 'ultimate']['monthly_revenue']\n",
    "\n",
    "# Prepare data for boxplot\n",
    "data_to_plot = [surf_data, ultimate_data]\n",
    "\n",
    "# Create a figure instance\n",
    "fig = plt.figure()\n",
    "\n",
    "# Create an axes instance\n",
    "ax = fig.add_subplot(111)\n",
    "\n",
    "# Create the boxplot\n",
    "ax.boxplot(data_to_plot)\n",
    "\n",
    "# Set the labels and title\n",
    "ax.set_xticklabels(['Surf', 'Ultimate'])\n",
    "ax.set_xlabel('Plan Name')\n",
    "ax.set_ylabel('Monthly Revenue')\n",
    "ax.set_title('Monthly Revenue by Plan')\n",
    "\n",
    "# Show the plot\n",
    "plt.show()\n"
   ]
  },
  {
   "cell_type": "code",
   "execution_count": 41,
   "metadata": {},
   "outputs": [
    {
     "data": {
      "image/png": "[encoded data removed]",
      "text/plain": [
       "<Figure size 432x288 with 1 Axes>"
      ]
     },
     "metadata": {
      "needs_background": "light"
     },
     "output_type": "display_data"
    }
   ],
   "source": [
    "# Calculate average monthly revenue for each plan\n",
    "avg_revenue = final_data_with_plan_info.groupby('plan_name')['monthly_revenue'].mean()\n",
    "\n",
    "# Create a bar plot\n",
    "avg_revenue.plot(kind='bar', color=['blue', 'green'])\n",
    "\n",
    "# Set labels and title\n",
    "plt.xlabel('Plan Name')\n",
    "plt.ylabel('Average Monthly Revenue')\n",
    "plt.title('Average Monthly Revenue by Plan')\n",
    "\n",
    "# Show the plot\n",
    "plt.show()"
   ]
  },
  {
   "cell_type": "markdown",
   "metadata": {},
   "source": [
    "From the bar graph we see how more revenue is generated by Ultimate plans."
   ]
  },
  {
   "cell_type": "markdown",
   "metadata": {},
   "source": [
    "## Test statistical hypotheses"
   ]
  },
  {
   "cell_type": "code",
   "execution_count": 42,
   "metadata": {
    "scrolled": true
   },
   "outputs": [
    {
     "name": "stdout",
     "output_type": "stream",
     "text": [
      "T-Statistic: -5.568949166552807\n",
      "P-Value: 2.862674510698644e-08\n",
      "Reject the null hypothesis\n"
     ]
    }
   ],
   "source": [
    "from scipy import stats\n",
    "# Extract monthly revenue data for each plan\n",
    "surf_data = final_data_with_plan_info[final_data_with_plan_info['plan_name'] == 'surf']['monthly_revenue']\n",
    "ultimate_data = final_data_with_plan_info[final_data_with_plan_info['plan_name'] == 'ultimate']['monthly_revenue']\n",
    "\n",
    "# Perform the t-test\n",
    "t_stat, p_val = stats.ttest_ind(surf_data, ultimate_data)\n",
    "\n",
    "# Print the results\n",
    "print('T-Statistic:', t_stat)\n",
    "print('P-Value:', p_val)\n",
    "\n",
    "# Check against alpha\n",
    "if p_val < 0.05:\n",
    "    print(\"Reject the null hypothesis\")\n",
    "else:\n",
    "    print(\"Fail to reject the null hypothesis\")\n",
    "\n"
   ]
  },
  {
   "cell_type": "markdown",
   "metadata": {},
   "source": [
    "In this analysis, we aim to determine whether there is a significant difference in the monthly revenue generated from the Surf and Ultimate plans.\n",
    "\n",
    "To do this, we set up two hypotheses:\n",
    "\n",
    "H0 (Null Hypothesis): There is no significant difference in the monthly revenue between the Surf and Ultimate plans. In statistical terms, this means that the mean monthly revenue of Surf plan equals the mean monthly revenue of the Ultimate plan.\n",
    "\n",
    "H1 (Alternative Hypothesis): There is a significant difference in the monthly revenue between the Surf and Ultimate plans, meaning the mean monthly revenues are not equal.\n",
    "\n",
    "We then perform an independent two-sample t-test (using stats.ttest_ind) to compare the means of the two samples (Surf and Ultimate monthly revenues). This test is appropriate as we are comparing the means of two independent samples to see if they significantly differ from each other.\n",
    "\n",
    "The chosen significance level is 0.05, which is a commonly adopted threshold in statistical analyses. This means that we are willing to accept a 5% chance of wrongly rejecting the null hypothesis.\n",
    "\n",
    "The resulting p-value is significantly smaller than the 0.05 threshold, leading us to reject the null hypothesis in favor of the alternative hypothesis. This suggests that there is a significant difference in the monthly revenues between the Surf and Ultimate plans."
   ]
  },
  {
   "cell_type": "code",
   "execution_count": 43,
   "metadata": {},
   "outputs": [
    {
     "name": "stdout",
     "output_type": "stream",
     "text": [
      "T-Statistic: -2.1309454999502133\n",
      "P-Value: 0.03352561588530014\n",
      "Reject the null hypothesis\n"
     ]
    }
   ],
   "source": [
    "# Test the hypotheses\n",
    "\n",
    "# Extract data for users in NY-NJ area and users in other regions\n",
    "ny_nj_data = final_data_with_plan_info[final_data_with_plan_info['city'].str.contains('NY-NJ')]['monthly_revenue']\n",
    "other_regions_data = final_data_with_plan_info[~final_data_with_plan_info['city'].str.contains('NY-NJ')]['monthly_revenue']\n",
    "\n",
    "# Perform the t-test\n",
    "t_stat, p_val = stats.ttest_ind(ny_nj_data, other_regions_data, equal_var=False)\n",
    "\n",
    "# Print the results\n",
    "print('T-Statistic:', t_stat)\n",
    "print('P-Value:', p_val)\n",
    "\n",
    "# Check against alpha\n",
    "if p_val < 0.05:\n",
    "    print(\"Reject the null hypothesis\")\n",
    "else:\n",
    "    print(\"Fail to reject the null hypothesis\")\n",
    "\n"
   ]
  },
  {
   "cell_type": "markdown",
   "metadata": {},
   "source": [
    "Hypotheses:\n",
    "\n",
    "H0: The null hypothesis (H0) states that the average monthly revenue from users in the NY-NJ area is equal to that of users from other regions. This is our assumption unless proven otherwise.\n",
    "H1: The alternate hypothesis (H1) states that the average monthly revenue from users in the NY-NJ area is not equal to that of users from other regions, implying there is a significant difference between the two.\n",
    "Choice of t-test: We chose the independent samples t-test because we are comparing the means of two separate groups to determine if there is a significant difference between them. The equal_var=False parameter indicates that we are not assuming equal variances between the two groups, which aligns with the Welch's t-test, a variation of the independent samples t-test that is more reliable when the two samples have unequal variances and unequal sample sizes.\n",
    "\n",
    "Choice of 0.05 Significance Level: A significance level of 0.05 is a commonly accepted threshold in statistical hypothesis testing. It means that we are willing to accept a 5% chance of rejecting the null hypothesis when it is true (Type I error).\n",
    "\n",
    "Based on the obtained p-value (0.0335), which is less than the significance level of 0.05, we reject the null hypothesis, suggesting that there is a statistically significant difference in the average monthly revenues between users in the NY-NJ area and users from other regions."
   ]
  },
  {
   "cell_type": "markdown",
   "metadata": {},
   "source": [
    "## General conclusion\n",
    "In our study, we took a close look at the user data from Megaline to understand which of their plans, \"Ultimate\" or \"Surf,\" is more profitable and how the location of users might influence their spending.\n",
    "\n",
    "Here's what we found:\n",
    "\n",
    "Why We Used a T-Test:\n",
    "We used a t-test because we wanted to check if there's a big difference in average revenues between the two groups: those on the \"Ultimate\" plan and those on the \"Surf\" plan. This type of test helps us see if any difference is significant or just happened by chance.\n",
    "\n",
    "Revenue Differences:\n",
    "Our analysis shows that the \"Ultimate\" plan is bringing in more money compared to the \"Surf\" plan, even though people on the \"Surf\" plan are using more data.\n",
    "\n",
    "Regional Revenue Differences:\n",
    "We also noticed that users in the NY-NJ area might be spending a bit less compared to users in other regions.\n",
    "\n",
    "Recommendations to Megaline:\n",
    "Promote the Ultimate Plan More:\n",
    "Since the \"Ultimate\" plan is generating more revenue, it might be a good idea to advertise it more.\n",
    "\n",
    "Review Data Packages for Surf Users:\n",
    "\"Surf\" users are using a lot of data. Maybe Megaline could think about changing the data packages in this plan to increase profits.\n",
    "\n",
    "Focus on the NY-NJ Area:\n",
    "Since revenues are a bit lower in the NY-NJ area, it might be worth putting in extra effort in marketing and customer engagement here.\n",
    "\n",
    "In short, this study has given us some clear insights into how Megaline's plans are doing. It seems like focusing on promoting the \"Ultimate\" plan and revisiting the data packages for the \"Surf\" plan could be smart moves. Also, a little more attention to the NY-NJ area might be beneficial."
   ]
  }
 ],
 "metadata": {
  "ExecuteTimeLog": [
   {
    "duration": 828,
    "start_time": "2021-11-16T09:21:11.304Z"
   },
   {
    "duration": 893,
    "start_time": "2021-11-16T09:21:17.728Z"
   },
   {
    "duration": 1150,
    "start_time": "2021-11-16T09:21:29.568Z"
   },
   {
    "duration": 3,
    "start_time": "2021-11-16T09:24:14.495Z"
   },
   {
    "duration": 120,
    "start_time": "2021-11-16T09:24:46.630Z"
   },
   {
    "duration": 3,
    "start_time": "2021-11-16T09:28:27.882Z"
   },
   {
    "duration": 4,
    "start_time": "2021-11-16T09:29:54.281Z"
   },
   {
    "duration": 3,
    "start_time": "2021-11-16T09:30:45.936Z"
   },
   {
    "duration": 4,
    "start_time": "2021-11-16T09:31:06.300Z"
   },
   {
    "duration": 113,
    "start_time": "2021-11-16T09:31:37.208Z"
   },
   {
    "duration": 143,
    "start_time": "2021-11-16T09:31:48.656Z"
   },
   {
    "duration": 98,
    "start_time": "2021-11-16T09:31:55.678Z"
   },
   {
    "duration": 3,
    "start_time": "2021-11-16T09:32:08.535Z"
   },
   {
    "duration": 111,
    "start_time": "2021-11-16T09:32:10.120Z"
   },
   {
    "duration": 3,
    "start_time": "2021-11-16T09:32:15.732Z"
   },
   {
    "duration": 4,
    "start_time": "2021-11-16T09:32:29.423Z"
   },
   {
    "duration": 3,
    "start_time": "2021-11-16T10:03:03.074Z"
   },
   {
    "duration": 3,
    "start_time": "2021-11-16T10:10:01.288Z"
   },
   {
    "duration": 3,
    "start_time": "2021-11-16T10:10:46.923Z"
   },
   {
    "duration": 121,
    "start_time": "2021-11-16T10:37:46.494Z"
   },
   {
    "duration": 125,
    "start_time": "2021-11-16T10:38:20.632Z"
   },
   {
    "duration": 112,
    "start_time": "2021-11-16T10:46:53.001Z"
   },
   {
    "duration": 110,
    "start_time": "2021-11-16T10:48:25.775Z"
   },
   {
    "duration": 3,
    "start_time": "2021-11-16T10:50:18.720Z"
   },
   {
    "duration": 4,
    "start_time": "2021-11-16T10:50:37.649Z"
   },
   {
    "duration": 2,
    "start_time": "2021-11-16T10:50:51.884Z"
   },
   {
    "duration": 3,
    "start_time": "2021-11-16T10:51:56.237Z"
   },
   {
    "duration": 101,
    "start_time": "2021-11-16T10:53:13.791Z"
   },
   {
    "duration": 3,
    "start_time": "2021-11-16T10:55:59.186Z"
   },
   {
    "duration": 3,
    "start_time": "2021-11-16T10:56:10.751Z"
   },
   {
    "duration": 3,
    "start_time": "2021-11-16T10:56:49.038Z"
   },
   {
    "duration": 3,
    "start_time": "2021-11-16T10:56:49.174Z"
   },
   {
    "duration": 4,
    "start_time": "2021-11-16T10:56:49.414Z"
   },
   {
    "duration": 3,
    "start_time": "2021-11-16T10:56:49.680Z"
   },
   {
    "duration": 3,
    "start_time": "2021-11-16T10:56:50.370Z"
   },
   {
    "duration": 114,
    "start_time": "2021-11-16T10:59:34.518Z"
   },
   {
    "duration": 3,
    "start_time": "2021-11-16T11:01:41.201Z"
   },
   {
    "duration": 116,
    "start_time": "2021-11-16T11:01:48.754Z"
   },
   {
    "duration": 3,
    "start_time": "2021-11-16T11:02:16.685Z"
   },
   {
    "duration": 3,
    "start_time": "2021-11-16T11:02:19.479Z"
   },
   {
    "duration": 3,
    "start_time": "2021-11-16T11:02:47.067Z"
   },
   {
    "duration": 3,
    "start_time": "2021-11-16T11:02:49.353Z"
   },
   {
    "duration": 3,
    "start_time": "2021-11-16T11:03:07.835Z"
   },
   {
    "duration": 3,
    "start_time": "2021-11-16T11:03:07.953Z"
   },
   {
    "duration": 112,
    "start_time": "2021-11-16T11:07:52.072Z"
   },
   {
    "duration": 187,
    "start_time": "2021-11-16T11:09:23.468Z"
   },
   {
    "duration": 4,
    "start_time": "2021-11-16T11:10:01.455Z"
   },
   {
    "duration": 3,
    "start_time": "2021-11-16T11:10:05.069Z"
   },
   {
    "duration": 4,
    "start_time": "2021-11-16T11:10:13.376Z"
   },
   {
    "duration": 3,
    "start_time": "2021-11-16T11:10:14.434Z"
   },
   {
    "duration": 3,
    "start_time": "2021-11-16T11:10:22.853Z"
   },
   {
    "duration": 4,
    "start_time": "2021-11-16T11:27:29.279Z"
   },
   {
    "duration": 4,
    "start_time": "2021-11-16T11:29:08.919Z"
   },
   {
    "duration": 118,
    "start_time": "2021-11-16T11:29:46.703Z"
   },
   {
    "duration": 437,
    "start_time": "2021-11-16T11:36:02.181Z"
   },
   {
    "duration": 157,
    "start_time": "2021-11-16T11:36:14.388Z"
   },
   {
    "duration": 207,
    "start_time": "2021-11-16T11:47:15.898Z"
   },
   {
    "duration": 3,
    "start_time": "2021-11-16T11:53:52.092Z"
   },
   {
    "duration": 3,
    "start_time": "2021-11-16T11:53:52.236Z"
   },
   {
    "duration": 3,
    "start_time": "2021-11-16T11:59:12.005Z"
   },
   {
    "duration": 112,
    "start_time": "2021-11-16T12:00:33.446Z"
   },
   {
    "duration": 3,
    "start_time": "2021-11-16T12:02:14.453Z"
   },
   {
    "duration": 3,
    "start_time": "2021-11-16T12:02:39.512Z"
   },
   {
    "duration": 106,
    "start_time": "2021-11-16T12:03:03.460Z"
   },
   {
    "duration": 3,
    "start_time": "2021-11-17T20:37:21.139Z"
   },
   {
    "duration": 3,
    "start_time": "2021-11-17T20:37:22.229Z"
   },
   {
    "duration": 3,
    "start_time": "2021-11-17T20:38:38.806Z"
   },
   {
    "duration": 3,
    "start_time": "2021-11-17T20:38:41.958Z"
   },
   {
    "duration": 3,
    "start_time": "2021-11-17T20:43:46.551Z"
   },
   {
    "duration": 4,
    "start_time": "2021-11-17T20:58:21.835Z"
   },
   {
    "duration": 3,
    "start_time": "2021-11-17T20:59:21.872Z"
   },
   {
    "duration": 4,
    "start_time": "2021-11-17T20:59:45.352Z"
   },
   {
    "duration": 4,
    "start_time": "2021-11-17T20:59:49.646Z"
   },
   {
    "duration": 159,
    "start_time": "2021-11-17T21:02:26.949Z"
   },
   {
    "duration": 3,
    "start_time": "2021-11-17T21:03:53.461Z"
   },
   {
    "duration": 3,
    "start_time": "2021-11-17T21:03:53.694Z"
   },
   {
    "duration": 3,
    "start_time": "2021-11-17T21:05:28.145Z"
   },
   {
    "duration": 116,
    "start_time": "2021-11-17T21:05:57.787Z"
   },
   {
    "duration": 3,
    "start_time": "2021-11-17T21:06:37.993Z"
   },
   {
    "duration": 3,
    "start_time": "2021-11-17T21:06:38.261Z"
   },
   {
    "duration": 3,
    "start_time": "2021-11-17T21:11:54.358Z"
   },
   {
    "duration": 3,
    "start_time": "2021-11-17T21:12:43.846Z"
   },
   {
    "duration": 4,
    "start_time": "2021-11-17T21:13:08.773Z"
   },
   {
    "duration": 3,
    "start_time": "2021-11-17T21:14:44.441Z"
   },
   {
    "duration": 3,
    "start_time": "2021-11-17T21:15:42.059Z"
   },
   {
    "duration": 4,
    "start_time": "2021-11-17T21:15:51.995Z"
   },
   {
    "duration": 3,
    "start_time": "2021-11-17T21:15:53.923Z"
   },
   {
    "duration": 3,
    "start_time": "2021-11-17T21:15:55.282Z"
   },
   {
    "duration": 3,
    "start_time": "2021-11-17T21:16:28.492Z"
   },
   {
    "duration": 3,
    "start_time": "2021-11-17T21:16:32.603Z"
   },
   {
    "duration": 3,
    "start_time": "2021-11-17T21:17:06.941Z"
   },
   {
    "duration": 98,
    "start_time": "2021-11-17T21:18:05.733Z"
   },
   {
    "duration": 4,
    "start_time": "2021-11-17T21:21:35.255Z"
   },
   {
    "duration": 3,
    "start_time": "2021-11-17T21:21:37.804Z"
   },
   {
    "duration": 4,
    "start_time": "2021-11-17T21:23:06.071Z"
   },
   {
    "duration": 3,
    "start_time": "2021-11-17T21:23:24.799Z"
   },
   {
    "duration": 3,
    "start_time": "2021-11-17T21:23:32.591Z"
   },
   {
    "duration": 98,
    "start_time": "2021-11-17T21:28:31.559Z"
   },
   {
    "duration": 3,
    "start_time": "2021-11-17T21:28:45.448Z"
   },
   {
    "duration": 3,
    "start_time": "2021-11-17T21:29:17.303Z"
   },
   {
    "duration": 3,
    "start_time": "2021-11-17T21:29:29.617Z"
   },
   {
    "duration": 3,
    "start_time": "2021-11-17T21:29:32.681Z"
   },
   {
    "duration": 3,
    "start_time": "2021-11-17T21:36:11.474Z"
   },
   {
    "duration": 3,
    "start_time": "2021-11-17T21:36:14.791Z"
   },
   {
    "duration": 3,
    "start_time": "2021-11-17T21:36:53.943Z"
   },
   {
    "duration": 3,
    "start_time": "2021-11-17T21:36:56.165Z"
   },
   {
    "duration": 4,
    "start_time": "2021-11-17T21:37:16.590Z"
   },
   {
    "duration": 3,
    "start_time": "2021-11-17T21:37:22.702Z"
   },
   {
    "duration": 4,
    "start_time": "2021-11-17T21:38:03.479Z"
   },
   {
    "duration": 3,
    "start_time": "2021-11-17T21:38:08.601Z"
   },
   {
    "duration": 3,
    "start_time": "2021-11-17T21:38:12.928Z"
   },
   {
    "duration": 3,
    "start_time": "2021-11-17T21:38:48.896Z"
   },
   {
    "duration": 2,
    "start_time": "2021-11-17T21:38:49.171Z"
   },
   {
    "duration": 4,
    "start_time": "2021-11-17T21:39:57.889Z"
   },
   {
    "duration": 3,
    "start_time": "2021-11-17T21:39:58.057Z"
   },
   {
    "duration": 3,
    "start_time": "2021-11-17T21:41:20.108Z"
   },
   {
    "duration": 3,
    "start_time": "2021-11-17T21:41:20.629Z"
   },
   {
    "duration": 3,
    "start_time": "2021-11-17T21:42:49.136Z"
   },
   {
    "duration": 3,
    "start_time": "2021-11-17T21:43:15.137Z"
   },
   {
    "duration": 4,
    "start_time": "2021-11-17T21:43:16.766Z"
   },
   {
    "duration": 4,
    "start_time": "2021-11-17T21:43:31.711Z"
   },
   {
    "duration": 3,
    "start_time": "2021-11-17T21:43:36.312Z"
   },
   {
    "duration": 4,
    "start_time": "2021-11-17T21:45:08.825Z"
   },
   {
    "duration": 4,
    "start_time": "2021-11-17T21:45:10.119Z"
   },
   {
    "duration": 4,
    "start_time": "2021-11-17T21:45:13.748Z"
   },
   {
    "duration": 3,
    "start_time": "2021-11-17T21:45:22.219Z"
   },
   {
    "duration": 3,
    "start_time": "2021-11-17T21:45:33.412Z"
   },
   {
    "duration": 2,
    "start_time": "2021-11-17T21:46:01.885Z"
   },
   {
    "duration": 3,
    "start_time": "2021-11-17T21:46:03.628Z"
   },
   {
    "duration": 107,
    "start_time": "2021-11-17T21:47:32.512Z"
   },
   {
    "duration": 103,
    "start_time": "2021-11-17T21:50:36.243Z"
   },
   {
    "duration": 3,
    "start_time": "2021-11-18T06:28:31.440Z"
   },
   {
    "duration": 3,
    "start_time": "2021-11-18T06:29:00.168Z"
   },
   {
    "duration": 3,
    "start_time": "2021-11-18T06:31:27.008Z"
   },
   {
    "duration": 2,
    "start_time": "2021-11-18T06:35:34.288Z"
   },
   {
    "duration": 2,
    "start_time": "2021-11-18T06:38:04.527Z"
   }
  ],
  "kernelspec": {
   "display_name": "Python 3 (ipykernel)",
   "language": "python",
   "name": "python3"
  },
  "language_info": {
   "codemirror_mode": {
    "name": "ipython",
    "version": 3
   },
   "file_extension": ".py",
   "mimetype": "text/x-python",
   "name": "python",
   "nbconvert_exporter": "python",
   "pygments_lexer": "ipython3",
   "version": "3.9.5"
  },
  "toc": {
   "base_numbering": 1,
   "nav_menu": {},
   "number_sections": true,
   "sideBar": true,
   "skip_h1_title": false,
   "title_cell": "Table of Contents",
   "title_sidebar": "Contents",
   "toc_cell": false,
   "toc_position": {
    "height": "calc(100% - 180px)",
    "left": "10px",
    "top": "150px",
    "width": "272px"
   },
   "toc_section_display": true,
   "toc_window_display": true
  }
 },
 "nbformat": 4,
 "nbformat_minor": 2
}
